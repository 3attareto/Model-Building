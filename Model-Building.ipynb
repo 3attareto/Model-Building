{
 "cells": [
  {
   "cell_type": "code",
   "execution_count": 1,
   "id": "36a63359",
   "metadata": {},
   "outputs": [],
   "source": [
    "import cobra"
   ]
  },
  {
   "cell_type": "code",
   "execution_count": 2,
   "id": "9fe675a5",
   "metadata": {},
   "outputs": [],
   "source": [
    "from cobra import Model,Reaction,Metabolite"
   ]
  },
  {
   "cell_type": "code",
   "execution_count": 3,
   "id": "8f6b1356",
   "metadata": {},
   "outputs": [],
   "source": [
    "model=Model('example')"
   ]
  },
  {
   "cell_type": "code",
   "execution_count": 4,
   "id": "66c949ea",
   "metadata": {},
   "outputs": [],
   "source": [
    "###### v1 : X=====> Y ###################################\n",
    "\n",
    "v1=Reaction('v1')\n",
    "v1.name='V1'\n",
    "v1.lower_bound=0\n",
    "v1.upper_bound=1000"
   ]
  },
  {
   "cell_type": "code",
   "execution_count": 5,
   "id": "a2a66ae6",
   "metadata": {},
   "outputs": [],
   "source": [
    "###### v2 : Y=====> Z ###################################\n",
    "\n",
    "\n",
    "v2=Reaction('v2')\n",
    "v2.name='V2'\n",
    "v2.lower_bound=0\n",
    "v2.upper_bound=1000"
   ]
  },
  {
   "cell_type": "code",
   "execution_count": 6,
   "id": "3c08e9ea",
   "metadata": {},
   "outputs": [],
   "source": [
    "###### v0 : =====> X ###################################\n",
    "\n",
    "v0=Reaction('v0')\n",
    "v0.name='V0'\n",
    "v0.lower_bound=1\n",
    "v0.upper_bound=1\n"
   ]
  },
  {
   "cell_type": "code",
   "execution_count": 7,
   "id": "ac641f53",
   "metadata": {},
   "outputs": [],
   "source": [
    "###### M : Z=====>  ###################################\n",
    "\n",
    "\n",
    "M=Reaction('M')\n",
    "M.name='M'\n",
    "M.lower_bound=0\n",
    "M.upper_bound=1000\n"
   ]
  },
  {
   "cell_type": "code",
   "execution_count": 8,
   "id": "c91c0cc9",
   "metadata": {},
   "outputs": [],
   "source": [
    "###### ATP_R : X=====> ATP ###################################\n",
    "\n",
    "ATP_R=Reaction('ATP_R')\n",
    "ATP_R.name='ATP_R'\n",
    "ATP_R.lower_bound=0\n",
    "ATP_R.upper_bound=1000\n"
   ]
  },
  {
   "cell_type": "code",
   "execution_count": 9,
   "id": "6df17da9",
   "metadata": {},
   "outputs": [],
   "source": [
    "###### V3 : ATP=====>  ###################################\n",
    "\n",
    "v3=Reaction('v3')\n",
    "ATP_R.name='v3'\n",
    "ATP_R.lower_bound=.7\n",
    "ATP_R.upper_bound=.7\n",
    "X= Metabolite(\n",
    "    'A',compartment='c')\n",
    "Y=Metabolite(\n",
    "    'B',compartment='c')\n",
    "Z= Metabolite(\n",
    "    'C',compartment='c')\n",
    "ATP= Metabolite(\n",
    "    'ATP',compartment='c')\n"
   ]
  },
  {
   "cell_type": "code",
   "execution_count": 10,
   "id": "205c8ecf",
   "metadata": {},
   "outputs": [],
   "source": [
    "###### Add metabolites in reaction V1 ###################################\n",
    "\n",
    "\n",
    "v1.add_metabolites({X:-1,Y:1})\n"
   ]
  },
  {
   "cell_type": "code",
   "execution_count": 11,
   "id": "2a75016c",
   "metadata": {},
   "outputs": [],
   "source": [
    "###### Add metabolites in reaction V2 ###################################\n",
    "\n",
    "v2.add_metabolites({Y:-1,Z:1})\n"
   ]
  },
  {
   "cell_type": "code",
   "execution_count": 12,
   "id": "f66c1b88",
   "metadata": {},
   "outputs": [],
   "source": [
    "###### Add metabolites in reaction V0 ###################################\n",
    "\n",
    "v0.add_metabolites({X:1})\n"
   ]
  },
  {
   "cell_type": "code",
   "execution_count": 13,
   "id": "18317bb8",
   "metadata": {},
   "outputs": [],
   "source": [
    "###### Add metabolites in reaction M ###################################\n",
    "\n",
    "M.add_metabolites({Z:-1})\n"
   ]
  },
  {
   "cell_type": "code",
   "execution_count": 14,
   "id": "500d0d66",
   "metadata": {},
   "outputs": [],
   "source": [
    "###### Add metabolites in reaction ATP_R ###################################\n",
    "\n",
    "ATP_R.add_metabolites({X:-1,ATP:1})\n"
   ]
  },
  {
   "cell_type": "code",
   "execution_count": 15,
   "id": "514a333b",
   "metadata": {},
   "outputs": [],
   "source": [
    "###### Add metabolites in reaction V3 ###################################\n",
    "\n",
    "v3.add_metabolites({ATP:-1})\n"
   ]
  },
  {
   "cell_type": "code",
   "execution_count": 16,
   "id": "5e4185b2",
   "metadata": {},
   "outputs": [],
   "source": [
    "###### Add reactions in model  ###################################\n",
    "\n",
    "model.add_reactions([v0,v1,ATP_R,v2,v3,M])\n"
   ]
  },
  {
   "cell_type": "code",
   "execution_count": 17,
   "id": "f75f7b18",
   "metadata": {},
   "outputs": [
    {
     "data": {
      "text/html": [
       "<strong><em>Optimal</em> solution with objective value 0.300</strong><br><div>\n",
       "<style scoped>\n",
       "    .dataframe tbody tr th:only-of-type {\n",
       "        vertical-align: middle;\n",
       "    }\n",
       "\n",
       "    .dataframe tbody tr th {\n",
       "        vertical-align: top;\n",
       "    }\n",
       "\n",
       "    .dataframe thead th {\n",
       "        text-align: right;\n",
       "    }\n",
       "</style>\n",
       "<table border=\"1\" class=\"dataframe\">\n",
       "  <thead>\n",
       "    <tr style=\"text-align: right;\">\n",
       "      <th></th>\n",
       "      <th>fluxes</th>\n",
       "      <th>reduced_costs</th>\n",
       "    </tr>\n",
       "  </thead>\n",
       "  <tbody>\n",
       "    <tr>\n",
       "      <th>v0</th>\n",
       "      <td>1.0</td>\n",
       "      <td>2.0</td>\n",
       "    </tr>\n",
       "    <tr>\n",
       "      <th>v1</th>\n",
       "      <td>0.3</td>\n",
       "      <td>0.0</td>\n",
       "    </tr>\n",
       "    <tr>\n",
       "      <th>ATP_R</th>\n",
       "      <td>0.7</td>\n",
       "      <td>-2.0</td>\n",
       "    </tr>\n",
       "    <tr>\n",
       "      <th>v2</th>\n",
       "      <td>0.3</td>\n",
       "      <td>0.0</td>\n",
       "    </tr>\n",
       "    <tr>\n",
       "      <th>v3</th>\n",
       "      <td>0.7</td>\n",
       "      <td>0.0</td>\n",
       "    </tr>\n",
       "    <tr>\n",
       "      <th>M</th>\n",
       "      <td>0.3</td>\n",
       "      <td>0.0</td>\n",
       "    </tr>\n",
       "  </tbody>\n",
       "</table>\n",
       "</div>"
      ],
      "text/plain": [
       "<Solution 0.300 at 0x15c8e6a4280>"
      ]
     },
     "execution_count": 17,
     "metadata": {},
     "output_type": "execute_result"
    }
   ],
   "source": [
    "###### Put M as a objective function  ###################################\n",
    "\n",
    "model.objective = 'M'\n",
    "model.optimize()\n"
   ]
  },
  {
   "cell_type": "code",
   "execution_count": 18,
   "id": "a393589d",
   "metadata": {},
   "outputs": [
    {
     "data": {
      "text/html": [
       "<h3>Objective</h3><p>1.0 M = 0.30000000000000004</p><h4>Uptake</h4><table border=\"1\" class=\"dataframe\">\n",
       "  <thead>\n",
       "    <tr style=\"text-align: right;\">\n",
       "      <th>Metabolite</th>\n",
       "      <th>Reaction</th>\n",
       "      <th>Flux</th>\n",
       "      <th>C-Number</th>\n",
       "      <th>C-Flux</th>\n",
       "    </tr>\n",
       "  </thead>\n",
       "  <tbody>\n",
       "    <tr>\n",
       "      <td>A</td>\n",
       "      <td>v0</td>\n",
       "      <td>1</td>\n",
       "      <td>0</td>\n",
       "      <td>0.00%</td>\n",
       "    </tr>\n",
       "  </tbody>\n",
       "</table><h4>Secretion</h4><table border=\"1\" class=\"dataframe\">\n",
       "  <thead>\n",
       "    <tr style=\"text-align: right;\">\n",
       "      <th>Metabolite</th>\n",
       "      <th>Reaction</th>\n",
       "      <th>Flux</th>\n",
       "      <th>C-Number</th>\n",
       "      <th>C-Flux</th>\n",
       "    </tr>\n",
       "  </thead>\n",
       "  <tbody>\n",
       "    <tr>\n",
       "      <td>C</td>\n",
       "      <td>M</td>\n",
       "      <td>-0.3</td>\n",
       "      <td>0</td>\n",
       "      <td>0.00%</td>\n",
       "    </tr>\n",
       "    <tr>\n",
       "      <td>ATP</td>\n",
       "      <td>v3</td>\n",
       "      <td>-0.7</td>\n",
       "      <td>0</td>\n",
       "      <td>0.00%</td>\n",
       "    </tr>\n",
       "  </tbody>\n",
       "</table>"
      ],
      "text/plain": [
       "<cobra.summary.model_summary.ModelSummary at 0x15c8e6a42e0>"
      ]
     },
     "execution_count": 18,
     "metadata": {},
     "output_type": "execute_result"
    }
   ],
   "source": [
    "model.summary()"
   ]
  },
  {
   "cell_type": "code",
   "execution_count": null,
   "id": "c19122f3",
   "metadata": {},
   "outputs": [],
   "source": []
  }
 ],
 "metadata": {
  "kernelspec": {
   "display_name": "Python 3",
   "language": "python",
   "name": "python3"
  },
  "language_info": {
   "codemirror_mode": {
    "name": "ipython",
    "version": 3
   },
   "file_extension": ".py",
   "mimetype": "text/x-python",
   "name": "python",
   "nbconvert_exporter": "python",
   "pygments_lexer": "ipython3",
   "version": "3.8.8"
  }
 },
 "nbformat": 4,
 "nbformat_minor": 5
}
